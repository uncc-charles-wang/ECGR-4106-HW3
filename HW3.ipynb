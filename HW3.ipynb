{
 "cells": [
  {
   "cell_type": "code",
   "execution_count": 1,
   "id": "2b627d63",
   "metadata": {},
   "outputs": [
    {
     "data": {
      "text/plain": [
       "device(type='cuda')"
      ]
     },
     "execution_count": 1,
     "metadata": {},
     "output_type": "execute_result"
    }
   ],
   "source": [
    "# Problem 1: Part 1\n",
    "import numpy as np\n",
    "import pandas as pd\n",
    "import matplotlib.pyplot as plt\n",
    "import time\n",
    "import torch.nn as nn\n",
    "import torch\n",
    "\n",
    "device = torch.device(\"cuda\" if torch.cuda.is_available() else \"cpu\")\n",
    "device"
   ]
  },
  {
   "cell_type": "code",
   "execution_count": 2,
   "id": "392e7993",
   "metadata": {},
   "outputs": [
    {
     "name": "stdout",
     "output_type": "stream",
     "text": [
      "Files already downloaded and verified\n",
      "Files already downloaded and verified\n"
     ]
    }
   ],
   "source": [
    "from torchvision import datasets\n",
    "data_path = \"../dlwpt-code/p1ch7/\"\n",
    "cifar10 = datasets.CIFAR10(data_path, train=True, download=True)\n",
    "cifar10_val = datasets.CIFAR10(data_path, train=False, download=True)\n",
    "\n",
    "class_names = [\"airplane\", \"automobile\", \"bird\", \"cat\", \"deer\", \"dog\", \"frog\", \"horse\", \"ship\", \"truck\"]"
   ]
  },
  {
   "cell_type": "code",
   "execution_count": 3,
   "id": "03772afc",
   "metadata": {},
   "outputs": [],
   "source": [
    "from torchvision import transforms\n",
    "to_tensor = transforms.ToTensor()\n",
    "tensor_cifar10 = datasets.CIFAR10(data_path, train=True, download=False, transform=transforms.ToTensor())\n",
    "tensor_cifar10_val = datasets.CIFAR10(data_path, train=False, download=False, transform=transforms.ToTensor())"
   ]
  },
  {
   "cell_type": "code",
   "execution_count": 52,
   "id": "7c85c601",
   "metadata": {},
   "outputs": [],
   "source": [
    "import torch.nn as nn\n",
    "import torch.nn.functional as F\n",
    "class Net(nn.Module):\n",
    "    def __init__(self):\n",
    "        super().__init__()\n",
    "        self.conv1 = nn.Conv2d(3,16,kernel_size=3, padding=1, device=device)\n",
    "        #self.act1 = nn.Tanh()\n",
    "        #self.pool1 = nn.MaxPool2d(2)\n",
    "        self.conv2 = nn.Conv2d(16,8, kernel_size=3, padding=1, device=device)\n",
    "        #self.act2 = nn.Tanh()\n",
    "        #self.pool2 = nn.MaxPool2d(2)\n",
    "        self.fc1 = nn.Linear(8 * 8 * 8, 32, device=device)\n",
    "        #self.act3 = nn.Tanh()\n",
    "        self.fc2 = nn.Linear(32,10, device=device) # Not sure if it should be 10 or 2\n",
    "    def forward(self, x):\n",
    "        out = F.max_pool2d(torch.tanh(self.conv1(x)), 2)\n",
    "        out = F.max_pool2d(torch.tanh(self.conv2(out)), 2)\n",
    "        \n",
    "        \n",
    "        out = out.view(-1, 8*8*8)\n",
    "        out = torch.tanh(self.fc1(out))\n",
    "        out = self.fc2(out)\n",
    "        return out"
   ]
  },
  {
   "cell_type": "code",
   "execution_count": 53,
   "id": "9da327a2",
   "metadata": {},
   "outputs": [],
   "source": [
    "import time\n",
    "import datetime\n",
    "start_time = time.perf_counter_ns()\n",
    "\n",
    "def training_loop(n_epochs, optimizer, model, loss_fn, train_loader):\n",
    "    for epoch in range(1, n_epochs + 1):\n",
    "        loss_train = 0.0\n",
    "        for imgs, labels in train_loader:\n",
    "            outputs = model(imgs.to(device))\n",
    "            loss = loss_fn(outputs, labels.to(device))\n",
    "\n",
    "            optimizer.zero_grad()\n",
    "            loss.backward()\n",
    "            optimizer.step()\n",
    "            loss_train += loss.item()\n",
    "            \n",
    "        if epoch == 1 or epoch % 10 == 0:\n",
    "            print(\"{} Epoch {}, Training loss {}\".format (\n",
    "                datetime.datetime.now(), epoch, loss_train / len(train_loader)\n",
    "            ))\n",
    "    end_time = time.perf_counter_ns()\n",
    "\n",
    "    total_time_ms = (end_time - start_time) / 1000000\n",
    "\n",
    "    print(\"Total Time: %d ms\" % (total_time_ms)) # Does not work for duration of over 1 minute!"
   ]
  },
  {
   "cell_type": "code",
   "execution_count": 54,
   "id": "13569fb6",
   "metadata": {
    "scrolled": true
   },
   "outputs": [
    {
     "name": "stdout",
     "output_type": "stream",
     "text": [
      "2022-03-30 12:26:10.541143 Epoch 1, Training loss 2.2380613379771144\n",
      "2022-03-30 12:26:58.739082 Epoch 10, Training loss 1.4227605641955305\n",
      "2022-03-30 12:27:52.708332 Epoch 20, Training loss 1.1753715974138217\n",
      "2022-03-30 12:28:46.455533 Epoch 30, Training loss 1.0549339225225132\n",
      "2022-03-30 12:29:40.257529 Epoch 40, Training loss 0.9806089130661372\n",
      "2022-03-30 12:30:33.961440 Epoch 50, Training loss 0.9297768067368462\n",
      "2022-03-30 12:31:27.036329 Epoch 60, Training loss 0.8890225231037725\n",
      "2022-03-30 12:32:20.796890 Epoch 70, Training loss 0.8561424019620242\n",
      "2022-03-30 12:33:14.292071 Epoch 80, Training loss 0.826676774779549\n",
      "2022-03-30 12:34:08.059160 Epoch 90, Training loss 0.8021137480769316\n",
      "2022-03-30 12:35:01.856404 Epoch 100, Training loss 0.7789207605449745\n",
      "2022-03-30 12:35:55.391150 Epoch 110, Training loss 0.7624223160240656\n",
      "2022-03-30 12:36:48.678650 Epoch 120, Training loss 0.7439663814156866\n",
      "2022-03-30 12:37:41.786013 Epoch 130, Training loss 0.7260743517552495\n",
      "2022-03-30 12:38:34.934832 Epoch 140, Training loss 0.7119140987048673\n",
      "2022-03-30 12:39:28.552665 Epoch 150, Training loss 0.6995305340460805\n",
      "2022-03-30 12:40:22.093831 Epoch 160, Training loss 0.6875468761948369\n",
      "2022-03-30 12:41:15.899571 Epoch 170, Training loss 0.6765348157080848\n",
      "2022-03-30 12:42:09.552647 Epoch 180, Training loss 0.665641595754782\n",
      "2022-03-30 12:43:03.179829 Epoch 190, Training loss 0.655288869310218\n",
      "2022-03-30 12:43:56.561227 Epoch 200, Training loss 0.6474006682481912\n",
      "2022-03-30 12:44:50.663818 Epoch 210, Training loss 0.6391010737937429\n",
      "2022-03-30 12:45:44.073103 Epoch 220, Training loss 0.6292098147789841\n",
      "2022-03-30 12:46:37.281763 Epoch 230, Training loss 0.6220493100183394\n",
      "2022-03-30 12:47:31.232901 Epoch 240, Training loss 0.6167290088008431\n",
      "2022-03-30 12:48:25.549186 Epoch 250, Training loss 0.6083746086758421\n",
      "2022-03-30 12:49:23.031038 Epoch 260, Training loss 0.6017156642721132\n",
      "2022-03-30 12:50:18.981968 Epoch 270, Training loss 0.5965573533874033\n",
      "2022-03-30 12:51:14.692552 Epoch 280, Training loss 0.5905887455586583\n",
      "2022-03-30 12:52:08.369071 Epoch 290, Training loss 0.5841535044371929\n",
      "2022-03-30 12:53:02.412171 Epoch 300, Training loss 0.5795741374687771\n",
      "Total Time: 1618922 ms\n"
     ]
    }
   ],
   "source": [
    "n_epochs = 300\n",
    "train_loader = torch.utils.data.DataLoader(tensor_cifar10, batch_size=64, shuffle=True)\n",
    "model = Net().to(device=device)\n",
    "learning_rate = 0.01\n",
    "optimizer = torch.optim.SGD(model.parameters(), lr=learning_rate)\n",
    "loss_fn = nn.CrossEntropyLoss()\n",
    "\n",
    "training_loop(\n",
    "    n_epochs = n_epochs,\n",
    "    optimizer = optimizer,\n",
    "    model = model,\n",
    "    loss_fn = loss_fn,\n",
    "    train_loader = train_loader\n",
    ")"
   ]
  },
  {
   "cell_type": "code",
   "execution_count": 55,
   "id": "1a6e1247",
   "metadata": {},
   "outputs": [
    {
     "name": "stdout",
     "output_type": "stream",
     "text": [
      "Accuracy train: 0.80\n",
      "Accuracy val: 0.63\n"
     ]
    }
   ],
   "source": [
    "train_loader = torch.utils.data.DataLoader(tensor_cifar10, batch_size=64, shuffle=False)\n",
    "\n",
    "val_loader = torch.utils.data.DataLoader(tensor_cifar10_val, batch_size=64, shuffle=False)\n",
    "\n",
    "def validate(model, train_loader, val_loader):\n",
    "    for name, loader in [(\"train\", train_loader), (\"val\", val_loader)]:\n",
    "        correct = 0\n",
    "        total = 0\n",
    "        with torch.no_grad():\n",
    "            for imgs, labels in loader:\n",
    "                outputs = model(imgs.to(device))\n",
    "                _, predicted = torch.max(outputs, dim=1)\n",
    "                total += labels.shape[0]\n",
    "                correct += int((predicted == labels.to(device)).sum())\n",
    "        print(\"Accuracy {}: {:.2f}\".format(name, correct / total))\n",
    "\n",
    "validate(model, train_loader, val_loader)"
   ]
  },
  {
   "cell_type": "code",
   "execution_count": 56,
   "id": "558bb45b",
   "metadata": {},
   "outputs": [
    {
     "data": {
      "text/plain": [
       "(18354, [432, 16, 1152, 8, 16384, 32, 320, 10])"
      ]
     },
     "execution_count": 56,
     "metadata": {},
     "output_type": "execute_result"
    }
   ],
   "source": [
    "numel_list = [p.numel() for p in model.parameters()]\n",
    "sum(numel_list), numel_list"
   ]
  },
  {
   "cell_type": "code",
   "execution_count": 23,
   "id": "41cb3cca",
   "metadata": {},
   "outputs": [],
   "source": [
    "torch.save(model.state_dict(), \"cnn_cifar10.pt\")"
   ]
  },
  {
   "cell_type": "code",
   "execution_count": 24,
   "id": "a3f40a48",
   "metadata": {},
   "outputs": [],
   "source": [
    "# Problem 1 part B"
   ]
  },
  {
   "cell_type": "code",
   "execution_count": 64,
   "id": "f6414157",
   "metadata": {},
   "outputs": [],
   "source": [
    "import torch.nn as nn\n",
    "import torch.nn.functional as F\n",
    "class Net_deeper(nn.Module):\n",
    "    def __init__(self, n_chans1=32):\n",
    "        super().__init__()\n",
    "        self.n_chans1 = n_chans1\n",
    "        self.conv1 = nn.Conv2d(3,n_chans1,kernel_size=3, padding=1, device=device)\n",
    "        self.conv2 = nn.Conv2d(n_chans1,n_chans1 // 2, kernel_size=3, padding=1, device=device)\n",
    "        self.conv3 = nn.Conv2d(n_chans1 // 2,n_chans1 // 2, kernel_size=3, padding=1, device=device)\n",
    "        self.fc1 = nn.Linear(4*4*n_chans1 // 2, 32, device=device)\n",
    "        self.fc2 = nn.Linear(32,10, device=device)\n",
    "    def forward(self, x):\n",
    "        out = F.max_pool2d(torch.tanh(self.conv1(x)), 2)\n",
    "        out = F.max_pool2d(torch.tanh(self.conv2(out)), 2)\n",
    "        out = F.max_pool2d(torch.tanh(self.conv3(out)), 2)\n",
    "        out = out.view(-1, 4*4*self.n_chans1 // 2)\n",
    "        out = torch.tanh(self.fc1(out))\n",
    "        out = self.fc2(out)\n",
    "        return out"
   ]
  },
  {
   "cell_type": "code",
   "execution_count": 65,
   "id": "a627be23",
   "metadata": {
    "scrolled": true
   },
   "outputs": [
    {
     "name": "stdout",
     "output_type": "stream",
     "text": [
      "2022-03-30 13:04:39.521890 Epoch 1, Training loss 2.2985282700384975\n",
      "2022-03-30 13:05:36.970011 Epoch 10, Training loss 1.4462246405499062\n",
      "2022-03-30 13:06:40.326698 Epoch 20, Training loss 1.161722811210491\n",
      "2022-03-30 13:07:44.722435 Epoch 30, Training loss 1.0169035414295733\n",
      "2022-03-30 13:08:47.935809 Epoch 40, Training loss 0.9187496081185158\n",
      "2022-03-30 13:09:50.974845 Epoch 50, Training loss 0.8472257677246543\n",
      "2022-03-30 13:10:53.734033 Epoch 60, Training loss 0.7991855386501688\n",
      "2022-03-30 13:11:56.475326 Epoch 70, Training loss 0.760929742508837\n",
      "2022-03-30 13:12:59.304192 Epoch 80, Training loss 0.7299830194019601\n",
      "2022-03-30 13:14:02.360058 Epoch 90, Training loss 0.7036529038568287\n",
      "2022-03-30 13:15:03.452097 Epoch 100, Training loss 0.6826299365295474\n",
      "2022-03-30 13:16:04.437418 Epoch 110, Training loss 0.662505298205044\n",
      "2022-03-30 13:17:05.088766 Epoch 120, Training loss 0.6444871906962846\n",
      "2022-03-30 13:18:05.640252 Epoch 130, Training loss 0.6270723457607772\n",
      "2022-03-30 13:19:06.731898 Epoch 140, Training loss 0.6135559609097898\n",
      "2022-03-30 13:20:07.359012 Epoch 150, Training loss 0.600437324789479\n",
      "2022-03-30 13:21:08.240622 Epoch 160, Training loss 0.5886074469217559\n",
      "2022-03-30 13:22:09.339563 Epoch 170, Training loss 0.5760369408313576\n",
      "2022-03-30 13:23:10.026209 Epoch 180, Training loss 0.5646725592329679\n",
      "2022-03-30 13:24:11.209953 Epoch 190, Training loss 0.553396968394899\n",
      "2022-03-30 13:25:12.445645 Epoch 200, Training loss 0.5428655083527041\n",
      "2022-03-30 13:26:13.208153 Epoch 210, Training loss 0.5335531414241133\n",
      "2022-03-30 13:27:14.164038 Epoch 220, Training loss 0.5252074352120195\n",
      "2022-03-30 13:28:15.414949 Epoch 230, Training loss 0.5188946949551477\n",
      "2022-03-30 13:29:16.584576 Epoch 240, Training loss 0.5105741446661523\n",
      "2022-03-30 13:30:17.840767 Epoch 250, Training loss 0.5026234372726182\n",
      "2022-03-30 13:31:18.919688 Epoch 260, Training loss 0.4969293284027473\n",
      "2022-03-30 13:32:19.776698 Epoch 270, Training loss 0.48930493660290225\n",
      "2022-03-30 13:33:20.591990 Epoch 280, Training loss 0.48175142556810013\n",
      "2022-03-30 13:34:21.824472 Epoch 290, Training loss 0.47941720314190517\n",
      "2022-03-30 13:35:22.961579 Epoch 300, Training loss 0.4696983874339582\n",
      "Total Time: 4159471 ms\n"
     ]
    }
   ],
   "source": [
    "n_epochs = 300\n",
    "train_loader = torch.utils.data.DataLoader(tensor_cifar10, batch_size=64, shuffle=True)\n",
    "model = Net_deeper(n_chans1=32).to(device=device)\n",
    "learning_rate = 0.01\n",
    "optimizer = torch.optim.SGD(model.parameters(), lr=learning_rate)\n",
    "loss_fn = nn.CrossEntropyLoss()\n",
    "\n",
    "training_loop(\n",
    "    n_epochs = n_epochs,\n",
    "    optimizer = optimizer,\n",
    "    model = model,\n",
    "    loss_fn = loss_fn,\n",
    "    train_loader = train_loader\n",
    ")"
   ]
  },
  {
   "cell_type": "code",
   "execution_count": 66,
   "id": "2d415606",
   "metadata": {},
   "outputs": [
    {
     "data": {
      "text/plain": [
       "(16394, [864, 32, 4608, 16, 2304, 16, 8192, 32, 320, 10])"
      ]
     },
     "execution_count": 66,
     "metadata": {},
     "output_type": "execute_result"
    }
   ],
   "source": [
    "numel_list = [p.numel() for p in model.parameters()]\n",
    "sum(numel_list), numel_list"
   ]
  },
  {
   "cell_type": "code",
   "execution_count": 67,
   "id": "f81153ca",
   "metadata": {},
   "outputs": [
    {
     "name": "stdout",
     "output_type": "stream",
     "text": [
      "Accuracy train: 0.83\n",
      "Accuracy val: 0.68\n"
     ]
    }
   ],
   "source": [
    "train_loader = torch.utils.data.DataLoader(tensor_cifar10, batch_size=64, shuffle=False)\n",
    "\n",
    "val_loader = torch.utils.data.DataLoader(tensor_cifar10_val, batch_size=64, shuffle=False)\n",
    "\n",
    "def validate(model, train_loader, val_loader):\n",
    "    for name, loader in [(\"train\", train_loader), (\"val\", val_loader)]:\n",
    "        correct = 0\n",
    "        total = 0\n",
    "        with torch.no_grad():\n",
    "            for imgs, labels in loader:\n",
    "                outputs = model(imgs.to(device))\n",
    "                _, predicted = torch.max(outputs, dim=1)\n",
    "                total += labels.shape[0]\n",
    "                correct += int((predicted == labels.to(device)).sum())\n",
    "        print(\"Accuracy {}: {:.2f}\".format(name, correct / total))\n",
    "\n",
    "validate(model, train_loader, val_loader)"
   ]
  },
  {
   "cell_type": "code",
   "execution_count": 68,
   "id": "f0214f20",
   "metadata": {},
   "outputs": [],
   "source": [
    "torch.save(model.state_dict(), \"cnn_cifar10_partB.pt\")"
   ]
  },
  {
   "cell_type": "code",
   "execution_count": null,
   "id": "fd22109e",
   "metadata": {},
   "outputs": [],
   "source": []
  }
 ],
 "metadata": {
  "kernelspec": {
   "display_name": "Python 3 (ipykernel)",
   "language": "python",
   "name": "python3"
  },
  "language_info": {
   "codemirror_mode": {
    "name": "ipython",
    "version": 3
   },
   "file_extension": ".py",
   "mimetype": "text/x-python",
   "name": "python",
   "nbconvert_exporter": "python",
   "pygments_lexer": "ipython3",
   "version": "3.9.7"
  }
 },
 "nbformat": 4,
 "nbformat_minor": 5
}
