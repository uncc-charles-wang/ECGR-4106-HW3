{
 "cells": [
  {
   "cell_type": "code",
   "execution_count": 1,
   "id": "767be1c4",
   "metadata": {},
   "outputs": [
    {
     "data": {
      "text/plain": [
       "device(type='cuda')"
      ]
     },
     "execution_count": 1,
     "metadata": {},
     "output_type": "execute_result"
    }
   ],
   "source": [
    "# Problem 1: Part 1\n",
    "import numpy as np\n",
    "import pandas as pd\n",
    "import matplotlib.pyplot as plt\n",
    "import time\n",
    "import torch.nn as nn\n",
    "import torch\n",
    "\n",
    "device = torch.device(\"cuda\" if torch.cuda.is_available() else \"cpu\")\n",
    "device"
   ]
  },
  {
   "cell_type": "code",
   "execution_count": 2,
   "id": "652062fe",
   "metadata": {},
   "outputs": [
    {
     "name": "stdout",
     "output_type": "stream",
     "text": [
      "Files already downloaded and verified\n",
      "Files already downloaded and verified\n"
     ]
    }
   ],
   "source": [
    "from torchvision import datasets\n",
    "data_path = \"../dlwpt-code/p1ch7/\"\n",
    "cifar10 = datasets.CIFAR10(data_path, train=True, download=True)\n",
    "cifar10_val = datasets.CIFAR10(data_path, train=False, download=True)\n",
    "\n",
    "class_names = [\"airplane\", \"automobile\", \"bird\", \"cat\", \"deer\", \"dog\", \"frog\", \"horse\", \"ship\", \"truck\"]"
   ]
  },
  {
   "cell_type": "code",
   "execution_count": 3,
   "id": "c61c4f31",
   "metadata": {},
   "outputs": [],
   "source": [
    "from torchvision import transforms\n",
    "to_tensor = transforms.ToTensor()\n",
    "tensor_cifar10 = datasets.CIFAR10(data_path, train=True, download=False, transform=transforms.ToTensor())\n",
    "tensor_cifar10_val = datasets.CIFAR10(data_path, train=False, download=False, transform=transforms.ToTensor())"
   ]
  },
  {
   "cell_type": "code",
   "execution_count": 52,
   "id": "775e69ea",
   "metadata": {},
   "outputs": [],
   "source": [
    "import torch.nn as nn\n",
    "import torch.nn.functional as F\n",
    "class Net(nn.Module):\n",
    "    def __init__(self):\n",
    "        super().__init__()\n",
    "        self.conv1 = nn.Conv2d(3,16,kernel_size=3, padding=1, device=device)\n",
    "        #self.act1 = nn.Tanh()\n",
    "        #self.pool1 = nn.MaxPool2d(2)\n",
    "        self.conv2 = nn.Conv2d(16,8, kernel_size=3, padding=1, device=device)\n",
    "        #self.act2 = nn.Tanh()\n",
    "        #self.pool2 = nn.MaxPool2d(2)\n",
    "        self.fc1 = nn.Linear(8 * 8 * 8, 32, device=device)\n",
    "        #self.act3 = nn.Tanh()\n",
    "        self.fc2 = nn.Linear(32,10, device=device) # Not sure if it should be 10 or 2\n",
    "    def forward(self, x):\n",
    "        out = F.max_pool2d(torch.tanh(self.conv1(x)), 2)\n",
    "        out = F.max_pool2d(torch.tanh(self.conv2(out)), 2)\n",
    "        \n",
    "        \n",
    "        out = out.view(-1, 8*8*8)\n",
    "        out = torch.tanh(self.fc1(out))\n",
    "        out = self.fc2(out)\n",
    "        return out"
   ]
  },
  {
   "cell_type": "code",
   "execution_count": 53,
   "id": "f33977d1",
   "metadata": {},
   "outputs": [],
   "source": [
    "import time\n",
    "import datetime\n",
    "start_time = time.perf_counter_ns()\n",
    "\n",
    "def training_loop(n_epochs, optimizer, model, loss_fn, train_loader):\n",
    "    for epoch in range(1, n_epochs + 1):\n",
    "        loss_train = 0.0\n",
    "        for imgs, labels in train_loader:\n",
    "            outputs = model(imgs.to(device))\n",
    "            loss = loss_fn(outputs, labels.to(device))\n",
    "\n",
    "            optimizer.zero_grad()\n",
    "            loss.backward()\n",
    "            optimizer.step()\n",
    "            loss_train += loss.item()\n",
    "            \n",
    "        if epoch == 1 or epoch % 10 == 0:\n",
    "            print(\"{} Epoch {}, Training loss {}\".format (\n",
    "                datetime.datetime.now(), epoch, loss_train / len(train_loader)\n",
    "            ))\n",
    "    end_time = time.perf_counter_ns()\n",
    "\n",
    "    total_time_ms = (end_time - start_time) / 1000000\n",
    "\n",
    "    print(\"Total Time: %d ms\" % (total_time_ms)) # Does not work for duration of over 1 minute!"
   ]
  },
  {
   "cell_type": "code",
   "execution_count": 54,
   "id": "2d16b67e",
   "metadata": {
    "scrolled": true
   },
   "outputs": [
    {
     "name": "stdout",
     "output_type": "stream",
     "text": [
      "2022-03-30 12:26:10.541143 Epoch 1, Training loss 2.2380613379771144\n",
      "2022-03-30 12:26:58.739082 Epoch 10, Training loss 1.4227605641955305\n",
      "2022-03-30 12:27:52.708332 Epoch 20, Training loss 1.1753715974138217\n",
      "2022-03-30 12:28:46.455533 Epoch 30, Training loss 1.0549339225225132\n",
      "2022-03-30 12:29:40.257529 Epoch 40, Training loss 0.9806089130661372\n",
      "2022-03-30 12:30:33.961440 Epoch 50, Training loss 0.9297768067368462\n",
      "2022-03-30 12:31:27.036329 Epoch 60, Training loss 0.8890225231037725\n",
      "2022-03-30 12:32:20.796890 Epoch 70, Training loss 0.8561424019620242\n",
      "2022-03-30 12:33:14.292071 Epoch 80, Training loss 0.826676774779549\n",
      "2022-03-30 12:34:08.059160 Epoch 90, Training loss 0.8021137480769316\n",
      "2022-03-30 12:35:01.856404 Epoch 100, Training loss 0.7789207605449745\n",
      "2022-03-30 12:35:55.391150 Epoch 110, Training loss 0.7624223160240656\n",
      "2022-03-30 12:36:48.678650 Epoch 120, Training loss 0.7439663814156866\n",
      "2022-03-30 12:37:41.786013 Epoch 130, Training loss 0.7260743517552495\n",
      "2022-03-30 12:38:34.934832 Epoch 140, Training loss 0.7119140987048673\n",
      "2022-03-30 12:39:28.552665 Epoch 150, Training loss 0.6995305340460805\n",
      "2022-03-30 12:40:22.093831 Epoch 160, Training loss 0.6875468761948369\n",
      "2022-03-30 12:41:15.899571 Epoch 170, Training loss 0.6765348157080848\n",
      "2022-03-30 12:42:09.552647 Epoch 180, Training loss 0.665641595754782\n",
      "2022-03-30 12:43:03.179829 Epoch 190, Training loss 0.655288869310218\n",
      "2022-03-30 12:43:56.561227 Epoch 200, Training loss 0.6474006682481912\n",
      "2022-03-30 12:44:50.663818 Epoch 210, Training loss 0.6391010737937429\n",
      "2022-03-30 12:45:44.073103 Epoch 220, Training loss 0.6292098147789841\n",
      "2022-03-30 12:46:37.281763 Epoch 230, Training loss 0.6220493100183394\n",
      "2022-03-30 12:47:31.232901 Epoch 240, Training loss 0.6167290088008431\n",
      "2022-03-30 12:48:25.549186 Epoch 250, Training loss 0.6083746086758421\n",
      "2022-03-30 12:49:23.031038 Epoch 260, Training loss 0.6017156642721132\n",
      "2022-03-30 12:50:18.981968 Epoch 270, Training loss 0.5965573533874033\n",
      "2022-03-30 12:51:14.692552 Epoch 280, Training loss 0.5905887455586583\n",
      "2022-03-30 12:52:08.369071 Epoch 290, Training loss 0.5841535044371929\n",
      "2022-03-30 12:53:02.412171 Epoch 300, Training loss 0.5795741374687771\n",
      "Total Time: 1618922 ms\n"
     ]
    }
   ],
   "source": [
    "n_epochs = 300\n",
    "train_loader = torch.utils.data.DataLoader(tensor_cifar10, batch_size=64, shuffle=True)\n",
    "model = Net().to(device=device)\n",
    "learning_rate = 0.01\n",
    "optimizer = torch.optim.SGD(model.parameters(), lr=learning_rate)\n",
    "loss_fn = nn.CrossEntropyLoss()\n",
    "\n",
    "training_loop(\n",
    "    n_epochs = n_epochs,\n",
    "    optimizer = optimizer,\n",
    "    model = model,\n",
    "    loss_fn = loss_fn,\n",
    "    train_loader = train_loader\n",
    ")"
   ]
  },
  {
   "cell_type": "code",
   "execution_count": 55,
   "id": "e2f99fda",
   "metadata": {},
   "outputs": [
    {
     "name": "stdout",
     "output_type": "stream",
     "text": [
      "Accuracy train: 0.80\n",
      "Accuracy val: 0.63\n"
     ]
    }
   ],
   "source": [
    "train_loader = torch.utils.data.DataLoader(tensor_cifar10, batch_size=64, shuffle=False)\n",
    "\n",
    "val_loader = torch.utils.data.DataLoader(tensor_cifar10_val, batch_size=64, shuffle=False)\n",
    "\n",
    "def validate(model, train_loader, val_loader):\n",
    "    for name, loader in [(\"train\", train_loader), (\"val\", val_loader)]:\n",
    "        correct = 0\n",
    "        total = 0\n",
    "        with torch.no_grad():\n",
    "            for imgs, labels in loader:\n",
    "                outputs = model(imgs.to(device))\n",
    "                _, predicted = torch.max(outputs, dim=1)\n",
    "                total += labels.shape[0]\n",
    "                correct += int((predicted == labels.to(device)).sum())\n",
    "        print(\"Accuracy {}: {:.2f}\".format(name, correct / total))\n",
    "\n",
    "validate(model, train_loader, val_loader)"
   ]
  },
  {
   "cell_type": "code",
   "execution_count": 56,
   "id": "fcef29a7",
   "metadata": {},
   "outputs": [
    {
     "data": {
      "text/plain": [
       "(18354, [432, 16, 1152, 8, 16384, 32, 320, 10])"
      ]
     },
     "execution_count": 56,
     "metadata": {},
     "output_type": "execute_result"
    }
   ],
   "source": [
    "numel_list = [p.numel() for p in model.parameters()]\n",
    "sum(numel_list), numel_list"
   ]
  },
  {
   "cell_type": "code",
   "execution_count": 23,
   "id": "3d79ea40",
   "metadata": {},
   "outputs": [],
   "source": [
    "torch.save(model.state_dict(), \"cnn_cifar10.pt\")"
   ]
  },
  {
   "cell_type": "code",
   "execution_count": 24,
   "id": "19379bcb",
   "metadata": {},
   "outputs": [],
   "source": [
    "# Problem 1 part B"
   ]
  },
  {
   "cell_type": "code",
   "execution_count": 64,
   "id": "dc0f7fc1",
   "metadata": {},
   "outputs": [],
   "source": [
    "import torch.nn as nn\n",
    "import torch.nn.functional as F\n",
    "class Net_deeper(nn.Module):\n",
    "    def __init__(self, n_chans1=32):\n",
    "        super().__init__()\n",
    "        self.n_chans1 = n_chans1\n",
    "        self.conv1 = nn.Conv2d(3,n_chans1,kernel_size=3, padding=1, device=device)\n",
    "        self.conv2 = nn.Conv2d(n_chans1,n_chans1 // 2, kernel_size=3, padding=1, device=device)\n",
    "        self.conv3 = nn.Conv2d(n_chans1 // 2,n_chans1 // 2, kernel_size=3, padding=1, device=device)\n",
    "        self.fc1 = nn.Linear(4*4*n_chans1 // 2, 32, device=device)\n",
    "        self.fc2 = nn.Linear(32,10, device=device)\n",
    "    def forward(self, x):\n",
    "        out = F.max_pool2d(torch.tanh(self.conv1(x)), 2)\n",
    "        out = F.max_pool2d(torch.tanh(self.conv2(out)), 2)\n",
    "        out = F.max_pool2d(torch.tanh(self.conv3(out)), 2)\n",
    "        out = out.view(-1, 4*4*self.n_chans1 // 2)\n",
    "        out = torch.tanh(self.fc1(out))\n",
    "        out = self.fc2(out)\n",
    "        return out"
   ]
  },
  {
   "cell_type": "code",
   "execution_count": 65,
   "id": "997c0e2d",
   "metadata": {
    "scrolled": true
   },
   "outputs": [
    {
     "name": "stdout",
     "output_type": "stream",
     "text": [
      "2022-03-30 13:04:39.521890 Epoch 1, Training loss 2.2985282700384975\n",
      "2022-03-30 13:05:36.970011 Epoch 10, Training loss 1.4462246405499062\n",
      "2022-03-30 13:06:40.326698 Epoch 20, Training loss 1.161722811210491\n",
      "2022-03-30 13:07:44.722435 Epoch 30, Training loss 1.0169035414295733\n",
      "2022-03-30 13:08:47.935809 Epoch 40, Training loss 0.9187496081185158\n",
      "2022-03-30 13:09:50.974845 Epoch 50, Training loss 0.8472257677246543\n",
      "2022-03-30 13:10:53.734033 Epoch 60, Training loss 0.7991855386501688\n",
      "2022-03-30 13:11:56.475326 Epoch 70, Training loss 0.760929742508837\n",
      "2022-03-30 13:12:59.304192 Epoch 80, Training loss 0.7299830194019601\n",
      "2022-03-30 13:14:02.360058 Epoch 90, Training loss 0.7036529038568287\n",
      "2022-03-30 13:15:03.452097 Epoch 100, Training loss 0.6826299365295474\n",
      "2022-03-30 13:16:04.437418 Epoch 110, Training loss 0.662505298205044\n",
      "2022-03-30 13:17:05.088766 Epoch 120, Training loss 0.6444871906962846\n",
      "2022-03-30 13:18:05.640252 Epoch 130, Training loss 0.6270723457607772\n",
      "2022-03-30 13:19:06.731898 Epoch 140, Training loss 0.6135559609097898\n",
      "2022-03-30 13:20:07.359012 Epoch 150, Training loss 0.600437324789479\n",
      "2022-03-30 13:21:08.240622 Epoch 160, Training loss 0.5886074469217559\n",
      "2022-03-30 13:22:09.339563 Epoch 170, Training loss 0.5760369408313576\n",
      "2022-03-30 13:23:10.026209 Epoch 180, Training loss 0.5646725592329679\n",
      "2022-03-30 13:24:11.209953 Epoch 190, Training loss 0.553396968394899\n",
      "2022-03-30 13:25:12.445645 Epoch 200, Training loss 0.5428655083527041\n",
      "2022-03-30 13:26:13.208153 Epoch 210, Training loss 0.5335531414241133\n",
      "2022-03-30 13:27:14.164038 Epoch 220, Training loss 0.5252074352120195\n",
      "2022-03-30 13:28:15.414949 Epoch 230, Training loss 0.5188946949551477\n",
      "2022-03-30 13:29:16.584576 Epoch 240, Training loss 0.5105741446661523\n",
      "2022-03-30 13:30:17.840767 Epoch 250, Training loss 0.5026234372726182\n",
      "2022-03-30 13:31:18.919688 Epoch 260, Training loss 0.4969293284027473\n",
      "2022-03-30 13:32:19.776698 Epoch 270, Training loss 0.48930493660290225\n",
      "2022-03-30 13:33:20.591990 Epoch 280, Training loss 0.48175142556810013\n",
      "2022-03-30 13:34:21.824472 Epoch 290, Training loss 0.47941720314190517\n",
      "2022-03-30 13:35:22.961579 Epoch 300, Training loss 0.4696983874339582\n",
      "Total Time: 4159471 ms\n"
     ]
    }
   ],
   "source": [
    "n_epochs = 300\n",
    "train_loader = torch.utils.data.DataLoader(tensor_cifar10, batch_size=64, shuffle=True)\n",
    "model = Net_deeper(n_chans1=32).to(device=device)\n",
    "learning_rate = 0.01\n",
    "optimizer = torch.optim.SGD(model.parameters(), lr=learning_rate)\n",
    "loss_fn = nn.CrossEntropyLoss()\n",
    "\n",
    "training_loop(\n",
    "    n_epochs = n_epochs,\n",
    "    optimizer = optimizer,\n",
    "    model = model,\n",
    "    loss_fn = loss_fn,\n",
    "    train_loader = train_loader\n",
    ")"
   ]
  },
  {
   "cell_type": "code",
   "execution_count": 66,
   "id": "e52966b3",
   "metadata": {},
   "outputs": [
    {
     "data": {
      "text/plain": [
       "(16394, [864, 32, 4608, 16, 2304, 16, 8192, 32, 320, 10])"
      ]
     },
     "execution_count": 66,
     "metadata": {},
     "output_type": "execute_result"
    }
   ],
   "source": [
    "numel_list = [p.numel() for p in model.parameters()]\n",
    "sum(numel_list), numel_list"
   ]
  },
  {
   "cell_type": "code",
   "execution_count": 67,
   "id": "db91b191",
   "metadata": {},
   "outputs": [
    {
     "name": "stdout",
     "output_type": "stream",
     "text": [
      "Accuracy train: 0.83\n",
      "Accuracy val: 0.68\n"
     ]
    }
   ],
   "source": [
    "train_loader = torch.utils.data.DataLoader(tensor_cifar10, batch_size=64, shuffle=False)\n",
    "\n",
    "val_loader = torch.utils.data.DataLoader(tensor_cifar10_val, batch_size=64, shuffle=False)\n",
    "\n",
    "def validate(model, train_loader, val_loader):\n",
    "    for name, loader in [(\"train\", train_loader), (\"val\", val_loader)]:\n",
    "        correct = 0\n",
    "        total = 0\n",
    "        with torch.no_grad():\n",
    "            for imgs, labels in loader:\n",
    "                outputs = model(imgs.to(device))\n",
    "                _, predicted = torch.max(outputs, dim=1)\n",
    "                total += labels.shape[0]\n",
    "                correct += int((predicted == labels.to(device)).sum())\n",
    "        print(\"Accuracy {}: {:.2f}\".format(name, correct / total))\n",
    "\n",
    "validate(model, train_loader, val_loader)"
   ]
  },
  {
   "cell_type": "code",
   "execution_count": 68,
   "id": "7416f36a",
   "metadata": {},
   "outputs": [],
   "source": [
    "torch.save(model.state_dict(), \"cnn_cifar10_partB.pt\")"
   ]
  },
  {
   "cell_type": "code",
   "execution_count": 69,
   "id": "9aae154c",
   "metadata": {},
   "outputs": [],
   "source": [
    "# Problem 2 part A"
   ]
  },
  {
   "cell_type": "code",
   "execution_count": 102,
   "id": "7e3a78d9",
   "metadata": {},
   "outputs": [],
   "source": [
    "class ResNet10Block(nn.Module):\n",
    "    def __init__(self, n_chans):\n",
    "        super(ResNet10Block, self).__init__()\n",
    "        self.conv = nn.Conv2d(n_chans,n_chans,kernel_size=3, padding=1, bias=False, device=device)\n",
    "        self.batch_norm = nn.BatchNorm2d(num_features=n_chans, device=device)\n",
    "        torch.nn.init.kaiming_normal_(self.conv.weight,\n",
    "                                     nonlinearity=\"relu\"\n",
    "                                     )\n",
    "        torch.nn.init.constant_(self.batch_norm.weight, 0.5)\n",
    "        torch.nn.init.zeros_(self.batch_norm.bias)\n",
    "        \n",
    "    def forward(self, x):\n",
    "        out = self.conv(x)\n",
    "        out = self.batch_norm(out)\n",
    "        out = torch.relu(out)\n",
    "        return out + x"
   ]
  },
  {
   "cell_type": "code",
   "execution_count": 103,
   "id": "44fae037",
   "metadata": {},
   "outputs": [],
   "source": [
    "class ResNet10Deep(nn.Module):\n",
    "    def __init__(self, n_chans1=32, n_blocks=10):\n",
    "        super().__init__()\n",
    "        self.n_chans1 = n_chans1\n",
    "        self.conv1 = nn.Conv2d(3, n_chans1, kernel_size=3, padding=1, device=device)\n",
    "        self.resblocks = nn.Sequential(\n",
    "            *(n_blocks * [ResNet10Block(n_chans=n_chans1)]))\n",
    "        self.fc1 = nn.Linear(8*8*n_chans1, 32, device=device)\n",
    "        self.fc2 = nn.Linear(32, 10, device=device)\n",
    "        \n",
    "    def forward(self, x):\n",
    "        out = F.max_pool2d(torch.relu(self.conv1(x)), 2)\n",
    "        out = self.resblocks(out)\n",
    "        out = F.max_pool2d(out, 2)\n",
    "        out = out.view(-1, 8*8*self.n_chans1)\n",
    "        out = torch.relu(self.fc1(out))\n",
    "        out = self.fc2(out)\n",
    "        return out"
   ]
  },
  {
   "cell_type": "code",
   "execution_count": 105,
   "id": "f1448548",
   "metadata": {
    "scrolled": true
   },
   "outputs": [
    {
     "name": "stdout",
     "output_type": "stream",
     "text": [
      "2022-03-30 19:34:44.224280 Epoch 1, Training loss 2.92310824052757\n",
      "2022-03-30 19:36:25.790563 Epoch 10, Training loss 2.9234882425469206\n",
      "2022-03-30 19:38:20.269649 Epoch 20, Training loss 2.9241029411325674\n",
      "2022-03-30 19:40:15.509151 Epoch 30, Training loss 2.92409797214791\n",
      "2022-03-30 19:42:10.278415 Epoch 40, Training loss 2.9239720630523798\n",
      "2022-03-30 19:44:06.447637 Epoch 50, Training loss 2.9231838167780806\n",
      "2022-03-30 19:46:02.364557 Epoch 60, Training loss 2.9240759733083\n",
      "2022-03-30 19:47:58.581410 Epoch 70, Training loss 2.9236174285259393\n",
      "2022-03-30 19:49:56.843037 Epoch 80, Training loss 2.92372717241497\n",
      "2022-03-30 19:51:54.023599 Epoch 90, Training loss 2.9232351749449434\n",
      "2022-03-30 19:53:49.927164 Epoch 100, Training loss 2.9247381318255763\n",
      "2022-03-30 19:55:45.950690 Epoch 110, Training loss 2.9234062674100443\n",
      "2022-03-30 19:57:41.366232 Epoch 120, Training loss 2.9235795102156032\n",
      "2022-03-30 19:59:37.445472 Epoch 130, Training loss 2.924004704141251\n",
      "2022-03-30 20:01:33.341592 Epoch 140, Training loss 2.9236969804519886\n",
      "2022-03-30 20:03:29.587699 Epoch 150, Training loss 2.924338835279655\n",
      "2022-03-30 20:05:24.869769 Epoch 160, Training loss 2.9236546129826695\n",
      "2022-03-30 20:07:21.334200 Epoch 170, Training loss 2.923842593227201\n",
      "2022-03-30 20:09:16.635842 Epoch 180, Training loss 2.9240338595017143\n",
      "2022-03-30 20:11:12.215601 Epoch 190, Training loss 2.9235317926577595\n",
      "2022-03-30 20:13:10.216070 Epoch 200, Training loss 2.9241488778682623\n",
      "2022-03-30 20:15:06.593573 Epoch 210, Training loss 2.92271231476913\n",
      "2022-03-30 20:17:03.328107 Epoch 220, Training loss 2.923762494645765\n",
      "2022-03-30 20:19:01.068287 Epoch 230, Training loss 2.923830579918669\n",
      "2022-03-30 20:20:58.391290 Epoch 240, Training loss 2.9241538599628925\n",
      "2022-03-30 20:22:55.444365 Epoch 250, Training loss 2.9241905087400277\n",
      "2022-03-30 20:24:52.045264 Epoch 260, Training loss 2.923361973079574\n",
      "2022-03-30 20:26:49.453329 Epoch 270, Training loss 2.92392450555816\n",
      "2022-03-30 20:28:44.850002 Epoch 280, Training loss 2.924112619036604\n",
      "2022-03-30 20:30:41.008214 Epoch 290, Training loss 2.9240544860625204\n",
      "2022-03-30 20:32:37.716675 Epoch 300, Training loss 2.9243389880260846\n",
      "Total Time: 29194226 ms\n"
     ]
    }
   ],
   "source": [
    "n_epochs = 300\n",
    "train_loader = torch.utils.data.DataLoader(tensor_cifar10, batch_size=64, shuffle=True,pin_memory=True)\n",
    "model_resnet10 = ResNet10Deep(n_chans1=32, n_blocks=10).to(device=device)\n",
    "learning_rate = 0.01\n",
    "optimizer = torch.optim.SGD(model.parameters(), lr=learning_rate)\n",
    "loss_fn = nn.CrossEntropyLoss()\n",
    "\n",
    "training_loop(\n",
    "    n_epochs = n_epochs,\n",
    "    optimizer = optimizer,\n",
    "    model = model_resnet10,\n",
    "    loss_fn = loss_fn,\n",
    "    train_loader = train_loader\n",
    ")"
   ]
  },
  {
   "cell_type": "code",
   "execution_count": 106,
   "id": "b04dce8b",
   "metadata": {},
   "outputs": [],
   "source": [
    "torch.save(model_resnet10.state_dict(), \"model_resnet10.pt\")"
   ]
  },
  {
   "cell_type": "code",
   "execution_count": 107,
   "id": "7f28d23b",
   "metadata": {},
   "outputs": [
    {
     "data": {
      "text/plain": [
       "(76074, [864, 32, 9216, 32, 32, 65536, 32, 320, 10])"
      ]
     },
     "execution_count": 107,
     "metadata": {},
     "output_type": "execute_result"
    }
   ],
   "source": [
    "numel_list = [p.numel() for p in model_resnet10.parameters()]\n",
    "sum(numel_list), numel_list"
   ]
  },
  {
   "cell_type": "code",
   "execution_count": 108,
   "id": "ac1f847d",
   "metadata": {},
   "outputs": [
    {
     "name": "stdout",
     "output_type": "stream",
     "text": [
      "Accuracy train: 0.12\n",
      "Accuracy val: 0.12\n"
     ]
    }
   ],
   "source": [
    "train_loader = torch.utils.data.DataLoader(tensor_cifar10, batch_size=64, shuffle=False,pin_memory=True)\n",
    "\n",
    "val_loader = torch.utils.data.DataLoader(tensor_cifar10_val, batch_size=64, shuffle=False,pin_memory=True)\n",
    "\n",
    "def validate(model, train_loader, val_loader):\n",
    "    for name, loader in [(\"train\", train_loader), (\"val\", val_loader)]:\n",
    "        correct = 0\n",
    "        total = 0\n",
    "        with torch.no_grad():\n",
    "            for imgs, labels in loader:\n",
    "                outputs = model(imgs.to(device))\n",
    "                _, predicted = torch.max(outputs, dim=1)\n",
    "                total += labels.shape[0]\n",
    "                correct += int((predicted == labels.to(device)).sum())\n",
    "        print(\"Accuracy {}: {:.2f}\".format(name, correct / total))\n",
    "\n",
    "validate(model_resnet10, train_loader, val_loader)"
   ]
  },
  {
   "cell_type": "code",
   "execution_count": 109,
   "id": "27984518",
   "metadata": {},
   "outputs": [],
   "source": [
    "# Problem 2 Part B"
   ]
  },
  {
   "cell_type": "code",
   "execution_count": 110,
   "id": "ed2e1a66",
   "metadata": {},
   "outputs": [],
   "source": [
    "# With weight decay. lambda = 0.001"
   ]
  },
  {
   "cell_type": "code",
   "execution_count": 113,
   "id": "3eb9f459",
   "metadata": {},
   "outputs": [],
   "source": [
    "def training_loop_l2reg(n_epochs, optimizer, model, loss_fn, train_loader):\n",
    "    for epoch in range(1, n_epochs + 1):\n",
    "        loss_train = 0.0\n",
    "        for imgs, labels in train_loader:\n",
    "            imgs = imgs.to(device=device)\n",
    "            labels = labels.to(device=device)\n",
    "            outputs = model(imgs)\n",
    "            loss = loss_fn(outputs, labels)\n",
    "            \n",
    "            l2_lambda = 0.001\n",
    "            l2_norm = sum(p.pow(2.0).sum()\n",
    "                         for p in model.parameters())\n",
    "            loss = loss + l2_lambda * l2_norm\n",
    "\n",
    "            optimizer.zero_grad()\n",
    "            loss.backward()\n",
    "            optimizer.step()\n",
    "            loss_train += loss.item()\n",
    "            \n",
    "        if epoch == 1 or epoch % 10 == 0:\n",
    "            print(\"{} Epoch {}, Training loss {}\".format(datetime.datetime.now(), epoch, loss_train / len(train_loader)))"
   ]
  },
  {
   "cell_type": "code",
   "execution_count": 114,
   "id": "039abe36",
   "metadata": {},
   "outputs": [
    {
     "name": "stdout",
     "output_type": "stream",
     "text": [
      "2022-03-30 20:37:57.859403 Epoch 1, Training loss 2.9440120732997688\n",
      "2022-03-30 20:39:37.269941 Epoch 10, Training loss 2.94415869615267\n",
      "2022-03-30 20:41:27.228091 Epoch 20, Training loss 2.9431121437750813\n",
      "2022-03-30 20:43:19.850897 Epoch 30, Training loss 2.942669885847575\n",
      "2022-03-30 20:45:13.605474 Epoch 40, Training loss 2.94351290162567\n",
      "2022-03-30 20:47:06.613727 Epoch 50, Training loss 2.944012579405704\n",
      "2022-03-30 20:49:01.016052 Epoch 60, Training loss 2.9438243348275304\n",
      "2022-03-30 20:50:55.308313 Epoch 70, Training loss 2.9435893928303436\n",
      "2022-03-30 20:52:49.161044 Epoch 80, Training loss 2.943811297111804\n",
      "2022-03-30 20:54:42.711041 Epoch 90, Training loss 2.943260073052038\n",
      "2022-03-30 20:56:37.178876 Epoch 100, Training loss 2.9433616171102694\n",
      "2022-03-30 20:58:30.864393 Epoch 110, Training loss 2.9435916943928166\n",
      "2022-03-30 21:00:25.060494 Epoch 120, Training loss 2.943265789914924\n",
      "2022-03-30 21:02:20.031648 Epoch 130, Training loss 2.9436673636326702\n",
      "2022-03-30 21:04:15.736381 Epoch 140, Training loss 2.943374234087327\n",
      "2022-03-30 21:06:15.644952 Epoch 150, Training loss 2.94366475871152\n",
      "2022-03-30 21:08:14.083809 Epoch 160, Training loss 2.9438093190302936\n",
      "2022-03-30 21:10:12.328304 Epoch 170, Training loss 2.9435137519446175\n",
      "2022-03-30 21:12:10.058611 Epoch 180, Training loss 2.9441489097102522\n",
      "2022-03-30 21:14:07.463716 Epoch 190, Training loss 2.9430240139631967\n",
      "2022-03-30 21:16:04.139641 Epoch 200, Training loss 2.943679033947723\n",
      "2022-03-30 21:18:01.424166 Epoch 210, Training loss 2.9427665947648265\n",
      "2022-03-30 21:19:58.789850 Epoch 220, Training loss 2.94399302633827\n",
      "2022-03-30 21:21:55.571801 Epoch 230, Training loss 2.9430291652679443\n",
      "2022-03-30 21:23:53.385136 Epoch 240, Training loss 2.9431480580888443\n",
      "2022-03-30 21:25:50.449994 Epoch 250, Training loss 2.943107993706413\n",
      "2022-03-30 21:27:47.320112 Epoch 260, Training loss 2.9434773860989933\n",
      "2022-03-30 21:29:40.990451 Epoch 270, Training loss 2.943556684362309\n",
      "2022-03-30 21:31:34.200283 Epoch 280, Training loss 2.942764470644314\n",
      "2022-03-30 21:33:27.331918 Epoch 290, Training loss 2.9430851293037006\n",
      "2022-03-30 21:35:20.511838 Epoch 300, Training loss 2.9431566173768107\n"
     ]
    }
   ],
   "source": [
    "n_epochs = 300\n",
    "train_loader = torch.utils.data.DataLoader(tensor_cifar10, batch_size=64, shuffle=True,pin_memory=True)\n",
    "model_resnet10_l2 = ResNet10Deep(n_chans1=32, n_blocks=10).to(device=device)\n",
    "learning_rate = 0.01\n",
    "optimizer = torch.optim.SGD(model.parameters(), lr=learning_rate)\n",
    "loss_fn = nn.CrossEntropyLoss()\n",
    "\n",
    "training_loop_l2reg(\n",
    "    n_epochs = n_epochs,\n",
    "    optimizer = optimizer,\n",
    "    model = model_resnet10_l2,\n",
    "    loss_fn = loss_fn,\n",
    "    train_loader = train_loader\n",
    ")"
   ]
  },
  {
   "cell_type": "code",
   "execution_count": 115,
   "id": "3199a7c7",
   "metadata": {},
   "outputs": [],
   "source": [
    "torch.save(model_resnet10_l2.state_dict(), \"model_resnet10_l2.pt\")"
   ]
  },
  {
   "cell_type": "code",
   "execution_count": 116,
   "id": "d78e9c2c",
   "metadata": {},
   "outputs": [
    {
     "data": {
      "text/plain": [
       "(76074, [864, 32, 9216, 32, 32, 65536, 32, 320, 10])"
      ]
     },
     "execution_count": 116,
     "metadata": {},
     "output_type": "execute_result"
    }
   ],
   "source": [
    "numel_list = [p.numel() for p in model_resnet10_l2.parameters()]\n",
    "sum(numel_list), numel_list"
   ]
  },
  {
   "cell_type": "code",
   "execution_count": 117,
   "id": "4ab6e82f",
   "metadata": {},
   "outputs": [
    {
     "name": "stdout",
     "output_type": "stream",
     "text": [
      "Accuracy train: 0.10\n",
      "Accuracy val: 0.10\n"
     ]
    }
   ],
   "source": [
    "train_loader = torch.utils.data.DataLoader(tensor_cifar10, batch_size=64, shuffle=False,pin_memory=True)\n",
    "\n",
    "val_loader = torch.utils.data.DataLoader(tensor_cifar10_val, batch_size=64, shuffle=False,pin_memory=True)\n",
    "\n",
    "def validate(model, train_loader, val_loader):\n",
    "    for name, loader in [(\"train\", train_loader), (\"val\", val_loader)]:\n",
    "        correct = 0\n",
    "        total = 0\n",
    "        with torch.no_grad():\n",
    "            for imgs, labels in loader:\n",
    "                outputs = model(imgs.to(device))\n",
    "                _, predicted = torch.max(outputs, dim=1)\n",
    "                total += labels.shape[0]\n",
    "                correct += int((predicted == labels.to(device)).sum())\n",
    "        print(\"Accuracy {}: {:.2f}\".format(name, correct / total))\n",
    "\n",
    "validate(model_resnet10_l2, train_loader, val_loader)"
   ]
  },
  {
   "cell_type": "code",
   "execution_count": 118,
   "id": "8f9274a6",
   "metadata": {},
   "outputs": [],
   "source": [
    "# Dropout p=0.3"
   ]
  },
  {
   "cell_type": "code",
   "execution_count": 119,
   "id": "9faaa00d",
   "metadata": {},
   "outputs": [],
   "source": [
    "class ResNetDropout(nn.Module):\n",
    "    def __init__(self, n_chans1=32):\n",
    "        super().__init__()\n",
    "        self.n_chans1 = n_chans1\n",
    "        self.conv1 = nn.Conv2d(3,n_chans1,kernel_size=3, padding=1, device=device)\n",
    "        self.conv1_dropout = nn.Dropout2d(p=0.3)\n",
    "        self.conv2 = nn.Conv2d(n_chans1,n_chans1 // 2, kernel_size=3, padding=1, device=device)\n",
    "        self.conv2_dropout = nn.Dropout2d(p=0.3)\n",
    "        \n",
    "        self.fc1 = nn.Linear(8*8*n_chans1 // 2, 32, device=device)\n",
    "        self.fc2 = nn.Linear(32,10, device=device)\n",
    "    def forward(self, x):\n",
    "        out = F.max_pool2d(torch.tanh(self.conv1(x)), 2)\n",
    "        out = self.conv1_dropout(out)\n",
    "        out = F.max_pool2d(torch.tanh(self.conv2(out)), 2)\n",
    "        out = self.conv2_dropout(out)\n",
    "        out = out.view(-1, 8*8*self.n_chans1 // 2)\n",
    "        out = torch.tanh(self.fc1(out))\n",
    "        out = self.fc2(out)\n",
    "        return out"
   ]
  },
  {
   "cell_type": "code",
   "execution_count": 120,
   "id": "66fa9acd",
   "metadata": {},
   "outputs": [
    {
     "name": "stdout",
     "output_type": "stream",
     "text": [
      "2022-03-30 21:39:18.955753 Epoch 1, Training loss 2.3093855429793257\n",
      "2022-03-30 21:40:16.239148 Epoch 10, Training loss 2.3094136824693217\n",
      "2022-03-30 21:41:21.636608 Epoch 20, Training loss 2.309101165712947\n",
      "2022-03-30 21:42:26.370793 Epoch 30, Training loss 2.309142488347905\n",
      "2022-03-30 21:43:31.876047 Epoch 40, Training loss 2.3098444606337094\n",
      "2022-03-30 21:44:38.102670 Epoch 50, Training loss 2.3095511213287976\n",
      "2022-03-30 21:45:46.104045 Epoch 60, Training loss 2.309356304385778\n",
      "2022-03-30 21:46:53.012171 Epoch 70, Training loss 2.309400152672282\n",
      "2022-03-30 21:48:00.567572 Epoch 80, Training loss 2.308821921763213\n",
      "2022-03-30 21:49:09.356076 Epoch 90, Training loss 2.3088060117438625\n",
      "2022-03-30 21:50:16.196670 Epoch 100, Training loss 2.309338037010349\n",
      "2022-03-30 21:51:23.429713 Epoch 110, Training loss 2.3097193902715696\n",
      "2022-03-30 21:52:31.186778 Epoch 120, Training loss 2.3092850102183156\n",
      "2022-03-30 21:53:38.838626 Epoch 130, Training loss 2.3090508212823697\n",
      "2022-03-30 21:54:47.608716 Epoch 140, Training loss 2.3093623008264603\n",
      "2022-03-30 21:55:56.624197 Epoch 150, Training loss 2.3093010446299678\n",
      "2022-03-30 21:57:01.220684 Epoch 160, Training loss 2.309391394600539\n",
      "2022-03-30 21:58:08.741610 Epoch 170, Training loss 2.309705018082543\n",
      "2022-03-30 21:59:16.532584 Epoch 180, Training loss 2.3090538957234843\n",
      "2022-03-30 22:00:25.022206 Epoch 190, Training loss 2.309465886381886\n",
      "2022-03-30 22:01:31.438933 Epoch 200, Training loss 2.309023425402239\n",
      "2022-03-30 22:02:33.594105 Epoch 210, Training loss 2.3090685801127986\n",
      "2022-03-30 22:03:36.122601 Epoch 220, Training loss 2.3097548088454225\n",
      "2022-03-30 22:04:39.441810 Epoch 230, Training loss 2.309372429957475\n",
      "2022-03-30 22:05:42.334159 Epoch 240, Training loss 2.309203151241898\n",
      "2022-03-30 22:06:44.562507 Epoch 250, Training loss 2.3092799778179742\n",
      "2022-03-30 22:07:48.359107 Epoch 260, Training loss 2.3091583785498537\n",
      "2022-03-30 22:08:56.779334 Epoch 270, Training loss 2.3093739927882124\n",
      "2022-03-30 22:10:05.289121 Epoch 280, Training loss 2.309187304943114\n",
      "2022-03-30 22:11:12.414775 Epoch 290, Training loss 2.3094830092261818\n",
      "2022-03-30 22:12:19.221837 Epoch 300, Training loss 2.3091108777638896\n",
      "Total Time: 35175731 ms\n"
     ]
    }
   ],
   "source": [
    "n_epochs = 300\n",
    "train_loader = torch.utils.data.DataLoader(tensor_cifar10, batch_size=64, shuffle=True,pin_memory=True)\n",
    "model_resnet10dropout = ResNetDropout(n_chans1=32).to(device=device)\n",
    "learning_rate = 0.01\n",
    "optimizer = torch.optim.SGD(model.parameters(), lr=learning_rate)\n",
    "loss_fn = nn.CrossEntropyLoss()\n",
    "\n",
    "training_loop(\n",
    "    n_epochs = n_epochs,\n",
    "    optimizer = optimizer,\n",
    "    model = model_resnet10dropout,\n",
    "    loss_fn = loss_fn,\n",
    "    train_loader = train_loader\n",
    ")"
   ]
  },
  {
   "cell_type": "code",
   "execution_count": 121,
   "id": "ee266fc9",
   "metadata": {},
   "outputs": [],
   "source": [
    "torch.save(model_resnet10dropout.state_dict(), \"model_resnet10dropout.pt\")"
   ]
  },
  {
   "cell_type": "code",
   "execution_count": 122,
   "id": "32fa997a",
   "metadata": {},
   "outputs": [
    {
     "data": {
      "text/plain": [
       "(38650, [864, 32, 4608, 16, 32768, 32, 320, 10])"
      ]
     },
     "execution_count": 122,
     "metadata": {},
     "output_type": "execute_result"
    }
   ],
   "source": [
    "numel_list = [p.numel() for p in model_resnet10dropout.parameters()]\n",
    "sum(numel_list), numel_list"
   ]
  },
  {
   "cell_type": "code",
   "execution_count": 123,
   "id": "e4d83d7f",
   "metadata": {},
   "outputs": [
    {
     "name": "stdout",
     "output_type": "stream",
     "text": [
      "Accuracy train: 0.10\n",
      "Accuracy val: 0.09\n"
     ]
    }
   ],
   "source": [
    "train_loader = torch.utils.data.DataLoader(tensor_cifar10, batch_size=64, shuffle=False,pin_memory=True)\n",
    "\n",
    "val_loader = torch.utils.data.DataLoader(tensor_cifar10_val, batch_size=64, shuffle=False,pin_memory=True)\n",
    "\n",
    "def validate(model, train_loader, val_loader):\n",
    "    for name, loader in [(\"train\", train_loader), (\"val\", val_loader)]:\n",
    "        correct = 0\n",
    "        total = 0\n",
    "        with torch.no_grad():\n",
    "            for imgs, labels in loader:\n",
    "                outputs = model(imgs.to(device))\n",
    "                _, predicted = torch.max(outputs, dim=1)\n",
    "                total += labels.shape[0]\n",
    "                correct += int((predicted == labels.to(device)).sum())\n",
    "        print(\"Accuracy {}: {:.2f}\".format(name, correct / total))\n",
    "\n",
    "validate(model_resnet10dropout, train_loader, val_loader)"
   ]
  },
  {
   "cell_type": "code",
   "execution_count": 124,
   "id": "f63ee174",
   "metadata": {},
   "outputs": [],
   "source": [
    "# Batch Normalization"
   ]
  },
  {
   "cell_type": "code",
   "execution_count": 130,
   "id": "452a6f30",
   "metadata": {},
   "outputs": [],
   "source": [
    "class ResNetBatchNorm(nn.Module):\n",
    "    def __init__(self, n_chans1=32):\n",
    "        super().__init__()\n",
    "        self.n_chans1 = n_chans1\n",
    "        self.conv1 = nn.Conv2d(3,n_chans1,kernel_size=3, padding=1, device=device)\n",
    "        self.conv1_batchnorm = nn.BatchNorm2d(num_features=n_chans1)\n",
    "        self.conv2 = nn.Conv2d(n_chans1,n_chans1 // 2, kernel_size=3, padding=1, device=device)\n",
    "        self.conv2_batchnorm = nn.BatchNorm2d(num_features=n_chans1 // 2)\n",
    "        \n",
    "        self.fc1 = nn.Linear(8*8*n_chans1 // 2, 32, device=device)\n",
    "        self.fc2 = nn.Linear(32,10, device=device)\n",
    "    def forward(self, x):\n",
    "        out = self.conv1_batchnorm(self.conv1(x))\n",
    "        out = F.max_pool2d(torch.tanh(out), 2)\n",
    "        out = self.conv2_batchnorm(self.conv2(out))\n",
    "        out = F.max_pool2d(torch.tanh(out), 2)\n",
    "        out = out.view(-1, 8*8*self.n_chans1 // 2)\n",
    "        out = torch.tanh(self.fc1(out))\n",
    "        out = self.fc2(out)\n",
    "        return out"
   ]
  },
  {
   "cell_type": "code",
   "execution_count": 131,
   "id": "255c1bc8",
   "metadata": {},
   "outputs": [
    {
     "name": "stdout",
     "output_type": "stream",
     "text": [
      "2022-03-30 22:24:06.625342 Epoch 1, Training loss 2.3370426225540277\n",
      "2022-03-30 22:25:06.456703 Epoch 10, Training loss 2.336975479979649\n",
      "2022-03-30 22:26:17.562803 Epoch 20, Training loss 2.337025232327259\n",
      "2022-03-30 22:27:28.617977 Epoch 30, Training loss 2.3370784091217742\n",
      "2022-03-30 22:28:37.503539 Epoch 40, Training loss 2.3369587464710637\n",
      "2022-03-30 22:29:44.018378 Epoch 50, Training loss 2.337038108150063\n",
      "2022-03-30 22:30:54.293615 Epoch 60, Training loss 2.3369397388394835\n",
      "2022-03-30 22:32:03.924675 Epoch 70, Training loss 2.3370123007108488\n",
      "2022-03-30 22:33:13.937946 Epoch 80, Training loss 2.3369069300649112\n",
      "2022-03-30 22:34:21.513244 Epoch 90, Training loss 2.3370173581116034\n",
      "2022-03-30 22:35:31.010844 Epoch 100, Training loss 2.337018848075281\n",
      "2022-03-30 22:36:41.309901 Epoch 110, Training loss 2.3370215850108114\n",
      "2022-03-30 22:37:50.036070 Epoch 120, Training loss 2.336967948757474\n",
      "2022-03-30 22:38:58.902576 Epoch 130, Training loss 2.337106945874441\n",
      "2022-03-30 22:40:09.782071 Epoch 140, Training loss 2.3371001936285696\n",
      "2022-03-30 22:41:21.059077 Epoch 150, Training loss 2.3369561244764596\n",
      "2022-03-30 22:42:29.653177 Epoch 160, Training loss 2.3369671088045516\n",
      "2022-03-30 22:43:38.287033 Epoch 170, Training loss 2.3368537532703955\n",
      "2022-03-30 22:44:46.582119 Epoch 180, Training loss 2.3368873404115056\n",
      "2022-03-30 22:45:55.925287 Epoch 190, Training loss 2.33686909895114\n",
      "2022-03-30 22:47:06.547139 Epoch 200, Training loss 2.3370515577628486\n",
      "2022-03-30 22:48:16.662464 Epoch 210, Training loss 2.3369912070691434\n",
      "2022-03-30 22:49:24.737651 Epoch 220, Training loss 2.33706119084907\n",
      "2022-03-30 22:50:33.425106 Epoch 230, Training loss 2.3369704750187865\n",
      "2022-03-30 22:51:43.201610 Epoch 240, Training loss 2.336969213107663\n",
      "2022-03-30 22:52:53.375085 Epoch 250, Training loss 2.336936087254673\n",
      "2022-03-30 22:54:02.624887 Epoch 260, Training loss 2.3370714001643385\n",
      "2022-03-30 22:55:12.000330 Epoch 270, Training loss 2.3370459869389646\n",
      "2022-03-30 22:56:21.529680 Epoch 280, Training loss 2.336913724384649\n",
      "2022-03-30 22:57:30.835168 Epoch 290, Training loss 2.336788021999857\n",
      "2022-03-30 22:58:39.897265 Epoch 300, Training loss 2.3370497665746743\n",
      "Total Time: 37956407 ms\n"
     ]
    }
   ],
   "source": [
    "n_epochs = 300\n",
    "train_loader = torch.utils.data.DataLoader(tensor_cifar10, batch_size=64, shuffle=True,pin_memory=True)\n",
    "model_resnet10_batchnorm = ResNetBatchNorm(n_chans1=32).to(device=device)\n",
    "learning_rate = 0.01\n",
    "optimizer = torch.optim.SGD(model.parameters(), lr=learning_rate)\n",
    "loss_fn = nn.CrossEntropyLoss()\n",
    "\n",
    "training_loop(\n",
    "    n_epochs = n_epochs,\n",
    "    optimizer = optimizer,\n",
    "    model = model_resnet10_batchnorm,\n",
    "    loss_fn = loss_fn,\n",
    "    train_loader = train_loader\n",
    ")"
   ]
  },
  {
   "cell_type": "code",
   "execution_count": 132,
   "id": "95b0fa7d",
   "metadata": {},
   "outputs": [],
   "source": [
    "torch.save(model_resnet10_batchnorm.state_dict(), \"model_resnet10_batchnorm.pt\")"
   ]
  },
  {
   "cell_type": "code",
   "execution_count": 133,
   "id": "4bb0d131",
   "metadata": {},
   "outputs": [
    {
     "data": {
      "text/plain": [
       "(38746, [864, 32, 32, 32, 4608, 16, 16, 16, 32768, 32, 320, 10])"
      ]
     },
     "execution_count": 133,
     "metadata": {},
     "output_type": "execute_result"
    }
   ],
   "source": [
    "numel_list = [p.numel() for p in model_resnet10_batchnorm.parameters()]\n",
    "sum(numel_list), numel_list"
   ]
  },
  {
   "cell_type": "code",
   "execution_count": 134,
   "id": "bf7d388c",
   "metadata": {},
   "outputs": [
    {
     "name": "stdout",
     "output_type": "stream",
     "text": [
      "Accuracy train: 0.10\n",
      "Accuracy val: 0.10\n"
     ]
    }
   ],
   "source": [
    "train_loader = torch.utils.data.DataLoader(tensor_cifar10, batch_size=64, shuffle=False,pin_memory=True)\n",
    "\n",
    "val_loader = torch.utils.data.DataLoader(tensor_cifar10_val, batch_size=64, shuffle=False,pin_memory=True)\n",
    "\n",
    "def validate(model, train_loader, val_loader):\n",
    "    for name, loader in [(\"train\", train_loader), (\"val\", val_loader)]:\n",
    "        correct = 0\n",
    "        total = 0\n",
    "        with torch.no_grad():\n",
    "            for imgs, labels in loader:\n",
    "                outputs = model(imgs.to(device))\n",
    "                _, predicted = torch.max(outputs, dim=1)\n",
    "                total += labels.shape[0]\n",
    "                correct += int((predicted == labels.to(device)).sum())\n",
    "        print(\"Accuracy {}: {:.2f}\".format(name, correct / total))\n",
    "\n",
    "validate(model_resnet10_batchnorm, train_loader, val_loader)"
   ]
  },
  {
   "cell_type": "code",
   "execution_count": null,
   "id": "db2961ed",
   "metadata": {},
   "outputs": [],
   "source": []
  }
 ],
 "metadata": {
  "kernelspec": {
   "display_name": "Python 3 (ipykernel)",
   "language": "python",
   "name": "python3"
  },
  "language_info": {
   "codemirror_mode": {
    "name": "ipython",
    "version": 3
   },
   "file_extension": ".py",
   "mimetype": "text/x-python",
   "name": "python",
   "nbconvert_exporter": "python",
   "pygments_lexer": "ipython3",
   "version": "3.9.7"
  }
 },
 "nbformat": 4,
 "nbformat_minor": 5
}
